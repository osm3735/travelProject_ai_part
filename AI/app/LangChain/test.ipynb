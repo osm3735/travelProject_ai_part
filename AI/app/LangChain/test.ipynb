{
 "cells": [
  {
   "cell_type": "code",
   "execution_count": 12,
   "id": "05da0fbb",
   "metadata": {},
   "outputs": [],
   "source": [
    "from langchain_core.output_parsers import StrOutputParser\n",
    "from langchain.prompts import PromptTemplate\n",
    "from langchain_openai import ChatOpenAI\n",
    "from pydantic import BaseModel, Field\n",
    "from langchain_core.output_parsers import JsonOutputParser\n",
    "import yaml\n",
    "import os\n",
    "\n",
    "\n",
    "\n",
    "class Answer(BaseModel):\n",
    "    title_en: str = Field(description=\"\")\n",
    "    title_ko: str = Field(description=\"\")\n",
    "    contents: str = Field(default=\"\")\n",
    "    detail_contents: str = Field(description=\"\")\n",
    "    urls: str = Field(description=\"\")\n",
    "\n",
    "class QandAChain:\n",
    "    def __init__(self):\n",
    "        base_path = os.getcwd() \n",
    "        # base_path = os.path.dirna/e(os.path.abspath(__file__))  # 현재 파일의 경로\n",
    "        file_path = os.path.join(base_path, 'prompt', 'QandAPrompt.yaml')\n",
    "\n",
    "        #with open(file_path, 'r') as f:\n",
    "        #    self.__prompt_template = yaml.load(f, Loader=yaml.SafeLoader)['template']\n",
    "        \n",
    "        self.__prompt_template = \"\"\"\n",
    "        너는 여행 정보를 제공하는 AI야.\n",
    "\n",
    "        사용자의 질문에 아래 JSON 형식으로 답변해 줘:\n",
    "\n",
    "        {format_instructions}\n",
    "\n",
    "        질문: {question}\n",
    "        \"\"\"\n",
    "\n",
    "        self.__model = ChatOpenAI(\n",
    "            temperature = 0.1,\n",
    "            model_name=\"gpt-4o-mini\",\n",
    "            max_tokens = 2048,\n",
    "            openai_api_key=os.getenv(\"OPENAI_API_KEY\")\n",
    "        )\n",
    "        self.__parser = JsonOutputParser(pydantic_object=Answer)\n",
    "        # self.__parser = StrOutputParser()\n",
    "\n",
    "    def main_chain_invoke(self, question):\n",
    "        prompt = PromptTemplate.from_template(self.__prompt_template)\n",
    "        prompt = prompt.partial(format_instructions=self.__parser.get_format_instructions())\n",
    "\n",
    "        chain = prompt | self.__model | self.__parser\n",
    "\n",
    "        result = chain.invoke({\"question\": question})\n",
    "        return result"
   ]
  },
  {
   "cell_type": "code",
   "execution_count": 13,
   "id": "d48cdd2d",
   "metadata": {},
   "outputs": [
    {
     "name": "stdout",
     "output_type": "stream",
     "text": [
      "{'title_en': 'What is LangChain?', 'title_ko': 'LangChain이란?', 'contents': 'LangChain은 자연어 처리(NLP) 및 인공지능(AI) 모델을 활용하여 다양한 애플리케이션을 구축할 수 있도록 돕는 프레임워크입니다.', 'detail_contents': 'LangChain은 언어 모델을 사용하여 데이터 처리, 대화형 AI, 정보 검색, 자동화된 작업 등을 수행할 수 있는 도구와 라이브러리를 제공합니다. 이 프레임워크는 사용자가 쉽게 언어 모델을 통합하고, 다양한 데이터 소스와 상호작용할 수 있도록 설계되었습니다.', 'urls': 'https://langchain.readthedocs.io/'}\n"
     ]
    }
   ],
   "source": [
    "if __name__ == \"__main__\":\n",
    "    chain = QandAChain()\n",
    "    result = chain.main_chain_invoke(\"LangChain이란?\")\n",
    "    print(result)"
   ]
  },
  {
   "cell_type": "markdown",
   "id": "a54ad751",
   "metadata": {},
   "source": []
  },
  {
   "cell_type": "code",
   "execution_count": null,
   "id": "e08b1001",
   "metadata": {},
   "outputs": [
    {
     "ename": "SyntaxError",
     "evalue": "Did you mean to use 'from ... import ...' instead? (1364386622.py, line 5)",
     "output_type": "error",
     "traceback": [
      "  \u001b[36mCell\u001b[39m\u001b[36m \u001b[39m\u001b[32mIn[1]\u001b[39m\u001b[32m, line 5\u001b[39m\n\u001b[31m    \u001b[39m\u001b[31mimport DB.SqlModel.Postgresql.CityRegion from city_region\u001b[39m\n    ^\n\u001b[31mSyntaxError\u001b[39m\u001b[31m:\u001b[39m Did you mean to use 'from ... import ...' instead?\n"
     ]
    }
   ],
   "source": [
    "# import os\n",
    "# import requests\n",
    "# from dotenv import load_dotenv\n",
    "# # import DB.db_connect\n",
    "# import DB.SqlModel.Postgresql.CityRegion from city_region\n",
    "# import DB.SqlModel.Postgresql.ServiceCategory from service_category\n",
    "# import CRUD.select from select\n",
    "\n",
    "# load_dotenv()\n",
    "# service_key = os.getenv(\"TOURAPI_SERVICE_KEY\")\n",
    "\n",
    "# question = \"강릉에서 갈만한 관광지 알려줘.\"\n",
    "# best_match = find_similar_parameters(question, similarity_threshold=0.7)\n",
    "\n",
    "# if not best_match:\n",
    "#     print(\"관련된 지역/카테고리를 찾을 수 없습니다.\")\n",
    "#     exit()\n",
    "\n",
    "# url = \"https://apis.data.go.kr/B551011/KorService2/areaBasedList2\"\n",
    "\n",
    "# params = {\n",
    "#     \"MobileOS\" : \"WEB\",\n",
    "#     \"MobileApp\" : \"TOUR_AI\",\n",
    "#     \"serviceKey\": self.__service_key,\n",
    "#     \"lDongRegnCd\" : lDongRegnCd,\n",
    "#     \"lDongSignguCd\" : lDongSignguCd,\n",
    "#     \"contentTypeId\": contentTypeId,\n",
    "#     \"cat1\": cat1,\n",
    "#     \"cat2\": cat2,\n",
    "#     \"cat3\": cat3\n",
    "# }\n",
    "\n",
    "# response = requests.get(url, params=params)\n",
    "\n",
    "# if response.status_code == 200:\n",
    "#     data = response.json()  \n",
    "#     items = data.get('response', {}).get('body', {}).get('items', {}).get('item', [])\n",
    "\n",
    "#     for i, item in enumerate(items, 1):\n",
    "#         print(item)\n",
    "#         # break\n",
    "#         title = item.get('title', '제목없음')\n",
    "#         addr1 = item.get('addr1', '주소없음')\n",
    "#         tel = item.get('tel', '전화번호없음')\n",
    "#         mapx = item.get('mapx', '')\n",
    "#         mapy = item.get('mapy', '')\n",
    "#         print(f\"{i}. {title}\")\n",
    "#         print(f\"   주소: {addr1}\")\n",
    "#         print(f\"   전화: {tel}\")\n",
    "#         print(f\"   좌표: ({mapx}, {mapy})\")\n",
    "#         print()\n",
    "#     # print(data)\n",
    "# else:\n",
    "#     print(f\"Error: {response.status_code}\")\n"
   ]
  },
  {
   "cell_type": "code",
   "execution_count": null,
   "id": "1140fb17",
   "metadata": {},
   "outputs": [
    {
     "name": "stdout",
     "output_type": "stream",
     "text": [
      "/home/jb01/teamproj/ai_chatbot_travel_booking/AI/app\n"
     ]
    },
    {
     "ename": "NameError",
     "evalue": "name 'dbconnect' is not defined",
     "output_type": "error",
     "traceback": [
      "\u001b[31m---------------------------------------------------------------------------\u001b[39m",
      "\u001b[31mNameError\u001b[39m                                 Traceback (most recent call last)",
      "\u001b[36mCell\u001b[39m\u001b[36m \u001b[39m\u001b[32mIn[1]\u001b[39m\u001b[32m, line 17\u001b[39m\n\u001b[32m     11\u001b[39m q_embedding = client.embeddings.create(\n\u001b[32m     12\u001b[39m     model=\u001b[33m\"\u001b[39m\u001b[33mtext-embedding-3-small\u001b[39m\u001b[33m\"\u001b[39m,\n\u001b[32m     13\u001b[39m     \u001b[38;5;28minput\u001b[39m=QUESTION\n\u001b[32m     14\u001b[39m ).data[\u001b[32m0\u001b[39m].embedding\n\u001b[32m     16\u001b[39m \u001b[38;5;66;03m# 2. DB에서 유사도 검색\u001b[39;00m\n\u001b[32m---> \u001b[39m\u001b[32m17\u001b[39m selector = \u001b[43mSELECT_DB\u001b[49m\u001b[43m(\u001b[49m\u001b[43m)\u001b[49m\n\u001b[32m     18\u001b[39m similar = selector.get_similar_city_region(q_embedding, top_k=\u001b[32m3\u001b[39m)\n\u001b[32m     20\u001b[39m \u001b[38;5;66;03m# 3. 결과 출력\u001b[39;00m\n",
      "\u001b[36mFile \u001b[39m\u001b[32m~/teamproj/ai_chatbot_travel_booking/AI/app/CRUD/select2.py:6\u001b[39m, in \u001b[36mSELECT_DB.__init__\u001b[39m\u001b[34m(self)\u001b[39m\n\u001b[32m      5\u001b[39m \u001b[38;5;28;01mdef\u001b[39;00m\u001b[38;5;250m \u001b[39m\u001b[34m__init__\u001b[39m(\u001b[38;5;28mself\u001b[39m):\n\u001b[32m----> \u001b[39m\u001b[32m6\u001b[39m     \u001b[38;5;28mself\u001b[39m.__postgre_db_connection = \u001b[43mdbconnect\u001b[49m.DBConnector(\u001b[33m\"\u001b[39m\u001b[33mpostgresql\u001b[39m\u001b[33m\"\u001b[39m).session_connecter()\n",
      "\u001b[31mNameError\u001b[39m: name 'dbconnect' is not defined"
     ]
    }
   ],
   "source": [
    "%cd ~/teamproj/ai_chatbot_travel_booking/AI/app/\n",
    "from openai import OpenAI\n",
    "import os\n",
    "from CRUD.select import SELECT_DB\n",
    "from dotenv import load_dotenv\n",
    "load_dotenv()\n",
    "client = OpenAI(api_key=os.getenv(\"OPENAI_API_KEY\"))\n",
    "\n",
    "QUESTION = \"강릉의 관광명소를 알려줘\"\n",
    "\n",
    "q_embedding = client.embeddings.create(\n",
    "    model=\"text-embedding-3-small\",\n",
    "    input=QUESTION\n",
    ").data[0].embedding\n",
    "\n",
    "# 2. DB에서 유사도 검색\n",
    "selector = SELECT_DB()\n",
    "similar = selector.get_similar_city_region(q_embedding, top_k=3)\n",
    "\n",
    "# 3. 결과 출력\n",
    "for row in similar:\n",
    "    print(row.city_str, row.city_code1, row.city_code2)\n"
   ]
  },
  {
   "cell_type": "code",
   "execution_count": null,
   "id": "2be51c31",
   "metadata": {},
   "outputs": [
    {
     "name": "stdout",
     "output_type": "stream",
     "text": [
      "/home/jb01/teamproj/ai_chatbot_travel_booking/AI/app\n",
      "임베딩 길이: 1536\n"
     ]
    },
    {
     "ename": "ProgrammingError",
     "evalue": "(psycopg2.errors.UndefinedFunction) operator does not exist: vector <-> numeric[]\nLINE 3:                        embedding <-> ARRAY[ -0.0312573984265...\n                                         ^\nHINT:  No operator matches the given name and argument types. You might need to add explicit type casts.\n\n[SQL: \n                SELECT city_code1, city_code2, city_str, \n                       embedding <-> %(embedding_param)s as distance\n                FROM city_regions \n                ORDER BY embedding <-> %(embedding_param)s\n                LIMIT %(limit_param)s\n            ]\n[parameters: {'embedding_param': [-0.031257398426532745, -0.0372454859316349, -0.0005025439895689487, 0.0016642147675156593, -0.02819133549928665, -0.012490613386034966, -0.0681530684 ... (33917 characters truncated) ... 684476613998413, 0.004179828334599733, 0.015145125798881054, 0.019198916852474213, -0.026339350268244743, -0.03092815913259983, -0.013344584964215755], 'limit_param': 3}]\n(Background on this error at: https://sqlalche.me/e/20/f405)",
     "output_type": "error",
     "traceback": [
      "\u001b[31m---------------------------------------------------------------------------\u001b[39m",
      "\u001b[31mUndefinedFunction\u001b[39m                         Traceback (most recent call last)",
      "\u001b[36mFile \u001b[39m\u001b[32m~/.cache/pypoetry/virtualenvs/teamproj-ilPeYRYx-py3.12/lib/python3.12/site-packages/sqlalchemy/engine/base.py:1961\u001b[39m, in \u001b[36mConnection._exec_single_context\u001b[39m\u001b[34m(self, dialect, context, statement, parameters)\u001b[39m\n\u001b[32m   1960\u001b[39m     \u001b[38;5;28;01mif\u001b[39;00m \u001b[38;5;129;01mnot\u001b[39;00m evt_handled:\n\u001b[32m-> \u001b[39m\u001b[32m1961\u001b[39m         \u001b[38;5;28;43mself\u001b[39;49m\u001b[43m.\u001b[49m\u001b[43mdialect\u001b[49m\u001b[43m.\u001b[49m\u001b[43mdo_execute\u001b[49m\u001b[43m(\u001b[49m\n\u001b[32m   1962\u001b[39m \u001b[43m            \u001b[49m\u001b[43mcursor\u001b[49m\u001b[43m,\u001b[49m\u001b[43m \u001b[49m\u001b[43mstr_statement\u001b[49m\u001b[43m,\u001b[49m\u001b[43m \u001b[49m\u001b[43meffective_parameters\u001b[49m\u001b[43m,\u001b[49m\u001b[43m \u001b[49m\u001b[43mcontext\u001b[49m\n\u001b[32m   1963\u001b[39m \u001b[43m        \u001b[49m\u001b[43m)\u001b[49m\n\u001b[32m   1965\u001b[39m \u001b[38;5;28;01mif\u001b[39;00m \u001b[38;5;28mself\u001b[39m._has_events \u001b[38;5;129;01mor\u001b[39;00m \u001b[38;5;28mself\u001b[39m.engine._has_events:\n",
      "\u001b[36mFile \u001b[39m\u001b[32m~/.cache/pypoetry/virtualenvs/teamproj-ilPeYRYx-py3.12/lib/python3.12/site-packages/sqlalchemy/engine/default.py:944\u001b[39m, in \u001b[36mDefaultDialect.do_execute\u001b[39m\u001b[34m(self, cursor, statement, parameters, context)\u001b[39m\n\u001b[32m    943\u001b[39m \u001b[38;5;28;01mdef\u001b[39;00m\u001b[38;5;250m \u001b[39m\u001b[34mdo_execute\u001b[39m(\u001b[38;5;28mself\u001b[39m, cursor, statement, parameters, context=\u001b[38;5;28;01mNone\u001b[39;00m):\n\u001b[32m--> \u001b[39m\u001b[32m944\u001b[39m     \u001b[43mcursor\u001b[49m\u001b[43m.\u001b[49m\u001b[43mexecute\u001b[49m\u001b[43m(\u001b[49m\u001b[43mstatement\u001b[49m\u001b[43m,\u001b[49m\u001b[43m \u001b[49m\u001b[43mparameters\u001b[49m\u001b[43m)\u001b[49m\n",
      "\u001b[31mUndefinedFunction\u001b[39m: operator does not exist: vector <-> numeric[]\nLINE 3:                        embedding <-> ARRAY[ -0.0312573984265...\n                                         ^\nHINT:  No operator matches the given name and argument types. You might need to add explicit type casts.\n",
      "\nThe above exception was the direct cause of the following exception:\n",
      "\u001b[31mProgrammingError\u001b[39m                          Traceback (most recent call last)",
      "\u001b[36mCell\u001b[39m\u001b[36m \u001b[39m\u001b[32mIn[2]\u001b[39m\u001b[32m, line 21\u001b[39m\n\u001b[32m     19\u001b[39m \u001b[38;5;66;03m# DB에서 유사도 검색\u001b[39;00m\n\u001b[32m     20\u001b[39m selector = SELECT_DB()\n\u001b[32m---> \u001b[39m\u001b[32m21\u001b[39m similar = \u001b[43mselector\u001b[49m\u001b[43m.\u001b[49m\u001b[43mget_similar_city_region\u001b[49m\u001b[43m(\u001b[49m\u001b[43mq_embedding\u001b[49m\u001b[43m,\u001b[49m\u001b[43m \u001b[49m\u001b[43mtop_k\u001b[49m\u001b[43m=\u001b[49m\u001b[32;43m3\u001b[39;49m\u001b[43m)\u001b[49m\n\u001b[32m     23\u001b[39m \u001b[38;5;66;03m# 결과 출력\u001b[39;00m\n\u001b[32m     24\u001b[39m \u001b[38;5;28;01mfor\u001b[39;00m row \u001b[38;5;129;01min\u001b[39;00m similar:\n",
      "\u001b[36mFile \u001b[39m\u001b[32m~/teamproj/ai_chatbot_travel_booking/AI/app/CRUD/select2.py:21\u001b[39m, in \u001b[36mSELECT_DB.get_similar_city_region\u001b[39m\u001b[34m(self, q_embedding, top_k)\u001b[39m\n\u001b[32m     11\u001b[39m \u001b[38;5;28;01mwith\u001b[39;00m \u001b[38;5;28mself\u001b[39m.__postgre_db_connection() \u001b[38;5;28;01mas\u001b[39;00m session:\n\u001b[32m     12\u001b[39m     \u001b[38;5;66;03m# 방법 1: pgvector 연산자 사용 (가장 권장)\u001b[39;00m\n\u001b[32m     13\u001b[39m     stmt = text(\u001b[33m\"\"\"\u001b[39m\n\u001b[32m     14\u001b[39m \u001b[33m        SELECT city_code1, city_code2, city_str, \u001b[39m\n\u001b[32m     15\u001b[39m \u001b[33m               embedding <-> :embedding_param as distance\u001b[39m\n\u001b[32m   (...)\u001b[39m\u001b[32m     18\u001b[39m \u001b[33m        LIMIT :limit_param\u001b[39m\n\u001b[32m     19\u001b[39m \u001b[33m    \u001b[39m\u001b[33m\"\"\"\u001b[39m)\n\u001b[32m---> \u001b[39m\u001b[32m21\u001b[39m     result = \u001b[43msession\u001b[49m\u001b[43m.\u001b[49m\u001b[43mexecute\u001b[49m\u001b[43m(\u001b[49m\u001b[43mstmt\u001b[49m\u001b[43m,\u001b[49m\u001b[43m \u001b[49m\u001b[43m{\u001b[49m\n\u001b[32m     22\u001b[39m \u001b[43m        \u001b[49m\u001b[33;43m'\u001b[39;49m\u001b[33;43membedding_param\u001b[39;49m\u001b[33;43m'\u001b[39;49m\u001b[43m:\u001b[49m\u001b[43m \u001b[49m\u001b[43mq_embedding\u001b[49m\u001b[43m,\u001b[49m\n\u001b[32m     23\u001b[39m \u001b[43m        \u001b[49m\u001b[33;43m'\u001b[39;49m\u001b[33;43mlimit_param\u001b[39;49m\u001b[33;43m'\u001b[39;49m\u001b[43m:\u001b[49m\u001b[43m \u001b[49m\u001b[43mtop_k\u001b[49m\n\u001b[32m     24\u001b[39m \u001b[43m    \u001b[49m\u001b[43m}\u001b[49m\u001b[43m)\u001b[49m.fetchall()\n\u001b[32m     26\u001b[39m     \u001b[38;5;28;01mreturn\u001b[39;00m result\n",
      "\u001b[36mFile \u001b[39m\u001b[32m~/.cache/pypoetry/virtualenvs/teamproj-ilPeYRYx-py3.12/lib/python3.12/site-packages/sqlalchemy/orm/session.py:2365\u001b[39m, in \u001b[36mSession.execute\u001b[39m\u001b[34m(self, statement, params, execution_options, bind_arguments, _parent_execute_state, _add_event)\u001b[39m\n\u001b[32m   2305\u001b[39m \u001b[38;5;28;01mdef\u001b[39;00m\u001b[38;5;250m \u001b[39m\u001b[34mexecute\u001b[39m(\n\u001b[32m   2306\u001b[39m     \u001b[38;5;28mself\u001b[39m,\n\u001b[32m   2307\u001b[39m     statement: Executable,\n\u001b[32m   (...)\u001b[39m\u001b[32m   2313\u001b[39m     _add_event: Optional[Any] = \u001b[38;5;28;01mNone\u001b[39;00m,\n\u001b[32m   2314\u001b[39m ) -> Result[Any]:\n\u001b[32m   2315\u001b[39m \u001b[38;5;250m    \u001b[39m\u001b[33mr\u001b[39m\u001b[33;03m\"\"\"Execute a SQL expression construct.\u001b[39;00m\n\u001b[32m   2316\u001b[39m \n\u001b[32m   2317\u001b[39m \u001b[33;03m    Returns a :class:`_engine.Result` object representing\u001b[39;00m\n\u001b[32m   (...)\u001b[39m\u001b[32m   2363\u001b[39m \n\u001b[32m   2364\u001b[39m \u001b[33;03m    \"\"\"\u001b[39;00m\n\u001b[32m-> \u001b[39m\u001b[32m2365\u001b[39m     \u001b[38;5;28;01mreturn\u001b[39;00m \u001b[38;5;28;43mself\u001b[39;49m\u001b[43m.\u001b[49m\u001b[43m_execute_internal\u001b[49m\u001b[43m(\u001b[49m\n\u001b[32m   2366\u001b[39m \u001b[43m        \u001b[49m\u001b[43mstatement\u001b[49m\u001b[43m,\u001b[49m\n\u001b[32m   2367\u001b[39m \u001b[43m        \u001b[49m\u001b[43mparams\u001b[49m\u001b[43m,\u001b[49m\n\u001b[32m   2368\u001b[39m \u001b[43m        \u001b[49m\u001b[43mexecution_options\u001b[49m\u001b[43m=\u001b[49m\u001b[43mexecution_options\u001b[49m\u001b[43m,\u001b[49m\n\u001b[32m   2369\u001b[39m \u001b[43m        \u001b[49m\u001b[43mbind_arguments\u001b[49m\u001b[43m=\u001b[49m\u001b[43mbind_arguments\u001b[49m\u001b[43m,\u001b[49m\n\u001b[32m   2370\u001b[39m \u001b[43m        \u001b[49m\u001b[43m_parent_execute_state\u001b[49m\u001b[43m=\u001b[49m\u001b[43m_parent_execute_state\u001b[49m\u001b[43m,\u001b[49m\n\u001b[32m   2371\u001b[39m \u001b[43m        \u001b[49m\u001b[43m_add_event\u001b[49m\u001b[43m=\u001b[49m\u001b[43m_add_event\u001b[49m\u001b[43m,\u001b[49m\n\u001b[32m   2372\u001b[39m \u001b[43m    \u001b[49m\u001b[43m)\u001b[49m\n",
      "\u001b[36mFile \u001b[39m\u001b[32m~/.cache/pypoetry/virtualenvs/teamproj-ilPeYRYx-py3.12/lib/python3.12/site-packages/sqlalchemy/orm/session.py:2260\u001b[39m, in \u001b[36mSession._execute_internal\u001b[39m\u001b[34m(self, statement, params, execution_options, bind_arguments, _parent_execute_state, _add_event, _scalar_result)\u001b[39m\n\u001b[32m   2251\u001b[39m     result: Result[Any] = compile_state_cls.orm_execute_statement(\n\u001b[32m   2252\u001b[39m         \u001b[38;5;28mself\u001b[39m,\n\u001b[32m   2253\u001b[39m         statement,\n\u001b[32m   (...)\u001b[39m\u001b[32m   2257\u001b[39m         conn,\n\u001b[32m   2258\u001b[39m     )\n\u001b[32m   2259\u001b[39m \u001b[38;5;28;01melse\u001b[39;00m:\n\u001b[32m-> \u001b[39m\u001b[32m2260\u001b[39m     result = \u001b[43mconn\u001b[49m\u001b[43m.\u001b[49m\u001b[43mexecute\u001b[49m\u001b[43m(\u001b[49m\n\u001b[32m   2261\u001b[39m \u001b[43m        \u001b[49m\u001b[43mstatement\u001b[49m\u001b[43m,\u001b[49m\u001b[43m \u001b[49m\u001b[43mparams\u001b[49m\u001b[43m \u001b[49m\u001b[38;5;129;43;01mor\u001b[39;49;00m\u001b[43m \u001b[49m\u001b[43m{\u001b[49m\u001b[43m}\u001b[49m\u001b[43m,\u001b[49m\u001b[43m \u001b[49m\u001b[43mexecution_options\u001b[49m\u001b[43m=\u001b[49m\u001b[43mexecution_options\u001b[49m\n\u001b[32m   2262\u001b[39m \u001b[43m    \u001b[49m\u001b[43m)\u001b[49m\n\u001b[32m   2264\u001b[39m \u001b[38;5;28;01mif\u001b[39;00m _scalar_result:\n\u001b[32m   2265\u001b[39m     \u001b[38;5;28;01mreturn\u001b[39;00m result.scalar()\n",
      "\u001b[36mFile \u001b[39m\u001b[32m~/.cache/pypoetry/virtualenvs/teamproj-ilPeYRYx-py3.12/lib/python3.12/site-packages/sqlalchemy/engine/base.py:1413\u001b[39m, in \u001b[36mConnection.execute\u001b[39m\u001b[34m(self, statement, parameters, execution_options)\u001b[39m\n\u001b[32m   1411\u001b[39m     \u001b[38;5;28;01mraise\u001b[39;00m exc.ObjectNotExecutableError(statement) \u001b[38;5;28;01mfrom\u001b[39;00m\u001b[38;5;250m \u001b[39m\u001b[34;01merr\u001b[39;00m\n\u001b[32m   1412\u001b[39m \u001b[38;5;28;01melse\u001b[39;00m:\n\u001b[32m-> \u001b[39m\u001b[32m1413\u001b[39m     \u001b[38;5;28;01mreturn\u001b[39;00m \u001b[43mmeth\u001b[49m\u001b[43m(\u001b[49m\n\u001b[32m   1414\u001b[39m \u001b[43m        \u001b[49m\u001b[38;5;28;43mself\u001b[39;49m\u001b[43m,\u001b[49m\n\u001b[32m   1415\u001b[39m \u001b[43m        \u001b[49m\u001b[43mdistilled_parameters\u001b[49m\u001b[43m,\u001b[49m\n\u001b[32m   1416\u001b[39m \u001b[43m        \u001b[49m\u001b[43mexecution_options\u001b[49m\u001b[43m \u001b[49m\u001b[38;5;129;43;01mor\u001b[39;49;00m\u001b[43m \u001b[49m\u001b[43mNO_OPTIONS\u001b[49m\u001b[43m,\u001b[49m\n\u001b[32m   1417\u001b[39m \u001b[43m    \u001b[49m\u001b[43m)\u001b[49m\n",
      "\u001b[36mFile \u001b[39m\u001b[32m~/.cache/pypoetry/virtualenvs/teamproj-ilPeYRYx-py3.12/lib/python3.12/site-packages/sqlalchemy/sql/elements.py:526\u001b[39m, in \u001b[36mClauseElement._execute_on_connection\u001b[39m\u001b[34m(self, connection, distilled_params, execution_options)\u001b[39m\n\u001b[32m    524\u001b[39m     \u001b[38;5;28;01mif\u001b[39;00m TYPE_CHECKING:\n\u001b[32m    525\u001b[39m         \u001b[38;5;28;01massert\u001b[39;00m \u001b[38;5;28misinstance\u001b[39m(\u001b[38;5;28mself\u001b[39m, Executable)\n\u001b[32m--> \u001b[39m\u001b[32m526\u001b[39m     \u001b[38;5;28;01mreturn\u001b[39;00m \u001b[43mconnection\u001b[49m\u001b[43m.\u001b[49m\u001b[43m_execute_clauseelement\u001b[49m\u001b[43m(\u001b[49m\n\u001b[32m    527\u001b[39m \u001b[43m        \u001b[49m\u001b[38;5;28;43mself\u001b[39;49m\u001b[43m,\u001b[49m\u001b[43m \u001b[49m\u001b[43mdistilled_params\u001b[49m\u001b[43m,\u001b[49m\u001b[43m \u001b[49m\u001b[43mexecution_options\u001b[49m\n\u001b[32m    528\u001b[39m \u001b[43m    \u001b[49m\u001b[43m)\u001b[49m\n\u001b[32m    529\u001b[39m \u001b[38;5;28;01melse\u001b[39;00m:\n\u001b[32m    530\u001b[39m     \u001b[38;5;28;01mraise\u001b[39;00m exc.ObjectNotExecutableError(\u001b[38;5;28mself\u001b[39m)\n",
      "\u001b[36mFile \u001b[39m\u001b[32m~/.cache/pypoetry/virtualenvs/teamproj-ilPeYRYx-py3.12/lib/python3.12/site-packages/sqlalchemy/engine/base.py:1635\u001b[39m, in \u001b[36mConnection._execute_clauseelement\u001b[39m\u001b[34m(self, elem, distilled_parameters, execution_options)\u001b[39m\n\u001b[32m   1623\u001b[39m compiled_cache: Optional[CompiledCacheType] = execution_options.get(\n\u001b[32m   1624\u001b[39m     \u001b[33m\"\u001b[39m\u001b[33mcompiled_cache\u001b[39m\u001b[33m\"\u001b[39m, \u001b[38;5;28mself\u001b[39m.engine._compiled_cache\n\u001b[32m   1625\u001b[39m )\n\u001b[32m   1627\u001b[39m compiled_sql, extracted_params, cache_hit = elem._compile_w_cache(\n\u001b[32m   1628\u001b[39m     dialect=dialect,\n\u001b[32m   1629\u001b[39m     compiled_cache=compiled_cache,\n\u001b[32m   (...)\u001b[39m\u001b[32m   1633\u001b[39m     linting=\u001b[38;5;28mself\u001b[39m.dialect.compiler_linting | compiler.WARN_LINTING,\n\u001b[32m   1634\u001b[39m )\n\u001b[32m-> \u001b[39m\u001b[32m1635\u001b[39m ret = \u001b[38;5;28;43mself\u001b[39;49m\u001b[43m.\u001b[49m\u001b[43m_execute_context\u001b[49m\u001b[43m(\u001b[49m\n\u001b[32m   1636\u001b[39m \u001b[43m    \u001b[49m\u001b[43mdialect\u001b[49m\u001b[43m,\u001b[49m\n\u001b[32m   1637\u001b[39m \u001b[43m    \u001b[49m\u001b[43mdialect\u001b[49m\u001b[43m.\u001b[49m\u001b[43mexecution_ctx_cls\u001b[49m\u001b[43m.\u001b[49m\u001b[43m_init_compiled\u001b[49m\u001b[43m,\u001b[49m\n\u001b[32m   1638\u001b[39m \u001b[43m    \u001b[49m\u001b[43mcompiled_sql\u001b[49m\u001b[43m,\u001b[49m\n\u001b[32m   1639\u001b[39m \u001b[43m    \u001b[49m\u001b[43mdistilled_parameters\u001b[49m\u001b[43m,\u001b[49m\n\u001b[32m   1640\u001b[39m \u001b[43m    \u001b[49m\u001b[43mexecution_options\u001b[49m\u001b[43m,\u001b[49m\n\u001b[32m   1641\u001b[39m \u001b[43m    \u001b[49m\u001b[43mcompiled_sql\u001b[49m\u001b[43m,\u001b[49m\n\u001b[32m   1642\u001b[39m \u001b[43m    \u001b[49m\u001b[43mdistilled_parameters\u001b[49m\u001b[43m,\u001b[49m\n\u001b[32m   1643\u001b[39m \u001b[43m    \u001b[49m\u001b[43melem\u001b[49m\u001b[43m,\u001b[49m\n\u001b[32m   1644\u001b[39m \u001b[43m    \u001b[49m\u001b[43mextracted_params\u001b[49m\u001b[43m,\u001b[49m\n\u001b[32m   1645\u001b[39m \u001b[43m    \u001b[49m\u001b[43mcache_hit\u001b[49m\u001b[43m=\u001b[49m\u001b[43mcache_hit\u001b[49m\u001b[43m,\u001b[49m\n\u001b[32m   1646\u001b[39m \u001b[43m\u001b[49m\u001b[43m)\u001b[49m\n\u001b[32m   1647\u001b[39m \u001b[38;5;28;01mif\u001b[39;00m has_events:\n\u001b[32m   1648\u001b[39m     \u001b[38;5;28mself\u001b[39m.dispatch.after_execute(\n\u001b[32m   1649\u001b[39m         \u001b[38;5;28mself\u001b[39m,\n\u001b[32m   1650\u001b[39m         elem,\n\u001b[32m   (...)\u001b[39m\u001b[32m   1654\u001b[39m         ret,\n\u001b[32m   1655\u001b[39m     )\n",
      "\u001b[36mFile \u001b[39m\u001b[32m~/.cache/pypoetry/virtualenvs/teamproj-ilPeYRYx-py3.12/lib/python3.12/site-packages/sqlalchemy/engine/base.py:1840\u001b[39m, in \u001b[36mConnection._execute_context\u001b[39m\u001b[34m(self, dialect, constructor, statement, parameters, execution_options, *args, **kw)\u001b[39m\n\u001b[32m   1838\u001b[39m     \u001b[38;5;28;01mreturn\u001b[39;00m \u001b[38;5;28mself\u001b[39m._exec_insertmany_context(dialect, context)\n\u001b[32m   1839\u001b[39m \u001b[38;5;28;01melse\u001b[39;00m:\n\u001b[32m-> \u001b[39m\u001b[32m1840\u001b[39m     \u001b[38;5;28;01mreturn\u001b[39;00m \u001b[38;5;28;43mself\u001b[39;49m\u001b[43m.\u001b[49m\u001b[43m_exec_single_context\u001b[49m\u001b[43m(\u001b[49m\n\u001b[32m   1841\u001b[39m \u001b[43m        \u001b[49m\u001b[43mdialect\u001b[49m\u001b[43m,\u001b[49m\u001b[43m \u001b[49m\u001b[43mcontext\u001b[49m\u001b[43m,\u001b[49m\u001b[43m \u001b[49m\u001b[43mstatement\u001b[49m\u001b[43m,\u001b[49m\u001b[43m \u001b[49m\u001b[43mparameters\u001b[49m\n\u001b[32m   1842\u001b[39m \u001b[43m    \u001b[49m\u001b[43m)\u001b[49m\n",
      "\u001b[36mFile \u001b[39m\u001b[32m~/.cache/pypoetry/virtualenvs/teamproj-ilPeYRYx-py3.12/lib/python3.12/site-packages/sqlalchemy/engine/base.py:1980\u001b[39m, in \u001b[36mConnection._exec_single_context\u001b[39m\u001b[34m(self, dialect, context, statement, parameters)\u001b[39m\n\u001b[32m   1977\u001b[39m     result = context._setup_result_proxy()\n\u001b[32m   1979\u001b[39m \u001b[38;5;28;01mexcept\u001b[39;00m \u001b[38;5;167;01mBaseException\u001b[39;00m \u001b[38;5;28;01mas\u001b[39;00m e:\n\u001b[32m-> \u001b[39m\u001b[32m1980\u001b[39m     \u001b[38;5;28;43mself\u001b[39;49m\u001b[43m.\u001b[49m\u001b[43m_handle_dbapi_exception\u001b[49m\u001b[43m(\u001b[49m\n\u001b[32m   1981\u001b[39m \u001b[43m        \u001b[49m\u001b[43me\u001b[49m\u001b[43m,\u001b[49m\u001b[43m \u001b[49m\u001b[43mstr_statement\u001b[49m\u001b[43m,\u001b[49m\u001b[43m \u001b[49m\u001b[43meffective_parameters\u001b[49m\u001b[43m,\u001b[49m\u001b[43m \u001b[49m\u001b[43mcursor\u001b[49m\u001b[43m,\u001b[49m\u001b[43m \u001b[49m\u001b[43mcontext\u001b[49m\n\u001b[32m   1982\u001b[39m \u001b[43m    \u001b[49m\u001b[43m)\u001b[49m\n\u001b[32m   1984\u001b[39m \u001b[38;5;28;01mreturn\u001b[39;00m result\n",
      "\u001b[36mFile \u001b[39m\u001b[32m~/.cache/pypoetry/virtualenvs/teamproj-ilPeYRYx-py3.12/lib/python3.12/site-packages/sqlalchemy/engine/base.py:2349\u001b[39m, in \u001b[36mConnection._handle_dbapi_exception\u001b[39m\u001b[34m(self, e, statement, parameters, cursor, context, is_sub_exec)\u001b[39m\n\u001b[32m   2347\u001b[39m \u001b[38;5;28;01melif\u001b[39;00m should_wrap:\n\u001b[32m   2348\u001b[39m     \u001b[38;5;28;01massert\u001b[39;00m sqlalchemy_exception \u001b[38;5;129;01mis\u001b[39;00m \u001b[38;5;129;01mnot\u001b[39;00m \u001b[38;5;28;01mNone\u001b[39;00m\n\u001b[32m-> \u001b[39m\u001b[32m2349\u001b[39m     \u001b[38;5;28;01mraise\u001b[39;00m sqlalchemy_exception.with_traceback(exc_info[\u001b[32m2\u001b[39m]) \u001b[38;5;28;01mfrom\u001b[39;00m\u001b[38;5;250m \u001b[39m\u001b[34;01me\u001b[39;00m\n\u001b[32m   2350\u001b[39m \u001b[38;5;28;01melse\u001b[39;00m:\n\u001b[32m   2351\u001b[39m     \u001b[38;5;28;01massert\u001b[39;00m exc_info[\u001b[32m1\u001b[39m] \u001b[38;5;129;01mis\u001b[39;00m \u001b[38;5;129;01mnot\u001b[39;00m \u001b[38;5;28;01mNone\u001b[39;00m\n",
      "\u001b[36mFile \u001b[39m\u001b[32m~/.cache/pypoetry/virtualenvs/teamproj-ilPeYRYx-py3.12/lib/python3.12/site-packages/sqlalchemy/engine/base.py:1961\u001b[39m, in \u001b[36mConnection._exec_single_context\u001b[39m\u001b[34m(self, dialect, context, statement, parameters)\u001b[39m\n\u001b[32m   1959\u001b[39m                 \u001b[38;5;28;01mbreak\u001b[39;00m\n\u001b[32m   1960\u001b[39m     \u001b[38;5;28;01mif\u001b[39;00m \u001b[38;5;129;01mnot\u001b[39;00m evt_handled:\n\u001b[32m-> \u001b[39m\u001b[32m1961\u001b[39m         \u001b[38;5;28;43mself\u001b[39;49m\u001b[43m.\u001b[49m\u001b[43mdialect\u001b[49m\u001b[43m.\u001b[49m\u001b[43mdo_execute\u001b[49m\u001b[43m(\u001b[49m\n\u001b[32m   1962\u001b[39m \u001b[43m            \u001b[49m\u001b[43mcursor\u001b[49m\u001b[43m,\u001b[49m\u001b[43m \u001b[49m\u001b[43mstr_statement\u001b[49m\u001b[43m,\u001b[49m\u001b[43m \u001b[49m\u001b[43meffective_parameters\u001b[49m\u001b[43m,\u001b[49m\u001b[43m \u001b[49m\u001b[43mcontext\u001b[49m\n\u001b[32m   1963\u001b[39m \u001b[43m        \u001b[49m\u001b[43m)\u001b[49m\n\u001b[32m   1965\u001b[39m \u001b[38;5;28;01mif\u001b[39;00m \u001b[38;5;28mself\u001b[39m._has_events \u001b[38;5;129;01mor\u001b[39;00m \u001b[38;5;28mself\u001b[39m.engine._has_events:\n\u001b[32m   1966\u001b[39m     \u001b[38;5;28mself\u001b[39m.dispatch.after_cursor_execute(\n\u001b[32m   1967\u001b[39m         \u001b[38;5;28mself\u001b[39m,\n\u001b[32m   1968\u001b[39m         cursor,\n\u001b[32m   (...)\u001b[39m\u001b[32m   1972\u001b[39m         context.executemany,\n\u001b[32m   1973\u001b[39m     )\n",
      "\u001b[36mFile \u001b[39m\u001b[32m~/.cache/pypoetry/virtualenvs/teamproj-ilPeYRYx-py3.12/lib/python3.12/site-packages/sqlalchemy/engine/default.py:944\u001b[39m, in \u001b[36mDefaultDialect.do_execute\u001b[39m\u001b[34m(self, cursor, statement, parameters, context)\u001b[39m\n\u001b[32m    943\u001b[39m \u001b[38;5;28;01mdef\u001b[39;00m\u001b[38;5;250m \u001b[39m\u001b[34mdo_execute\u001b[39m(\u001b[38;5;28mself\u001b[39m, cursor, statement, parameters, context=\u001b[38;5;28;01mNone\u001b[39;00m):\n\u001b[32m--> \u001b[39m\u001b[32m944\u001b[39m     \u001b[43mcursor\u001b[49m\u001b[43m.\u001b[49m\u001b[43mexecute\u001b[49m\u001b[43m(\u001b[49m\u001b[43mstatement\u001b[49m\u001b[43m,\u001b[49m\u001b[43m \u001b[49m\u001b[43mparameters\u001b[49m\u001b[43m)\u001b[49m\n",
      "\u001b[31mProgrammingError\u001b[39m: (psycopg2.errors.UndefinedFunction) operator does not exist: vector <-> numeric[]\nLINE 3:                        embedding <-> ARRAY[ -0.0312573984265...\n                                         ^\nHINT:  No operator matches the given name and argument types. You might need to add explicit type casts.\n\n[SQL: \n                SELECT city_code1, city_code2, city_str, \n                       embedding <-> %(embedding_param)s as distance\n                FROM city_regions \n                ORDER BY embedding <-> %(embedding_param)s\n                LIMIT %(limit_param)s\n            ]\n[parameters: {'embedding_param': [-0.031257398426532745, -0.0372454859316349, -0.0005025439895689487, 0.0016642147675156593, -0.02819133549928665, -0.012490613386034966, -0.0681530684 ... (33917 characters truncated) ... 684476613998413, 0.004179828334599733, 0.015145125798881054, 0.019198916852474213, -0.026339350268244743, -0.03092815913259983, -0.013344584964215755], 'limit_param': 3}]\n(Background on this error at: https://sqlalche.me/e/20/f405)"
     ]
    }
   ],
   "source": [
    "%cd ~/teamproj/ai_chatbot_travel_booking/AI/app/\n",
    "from openai import OpenAI\n",
    "import os\n",
    "from CRUD.select import SELECT_DB\n",
    "from dotenv import load_dotenv\n",
    "\n",
    "load_dotenv()\n",
    "client = OpenAI(api_key=os.getenv(\"OPENAI_API_KEY\"))\n",
    "\n",
    "QUESTION = \"강릉의 관광명소를 알려줘\"\n",
    "\n",
    "q_embedding = client.embeddings.create(\n",
    "    model=\"text-embedding-3-small\",\n",
    "    input=QUESTION\n",
    ").data[0].embedding\n",
    "\n",
    "print(f\"임베딩 길이: {len(q_embedding)}\")\n",
    "\n",
    "# DB에서 유사도 검색\n",
    "selector = SELECT_DB()\n",
    "similar = selector.get_similar_city_region(q_embedding, top_k=3)\n",
    "\n",
    "# 결과 출력\n",
    "for row in similar:\n",
    "    print(f\"도시: {row[2]}\")  # city_str\n",
    "    print(f\"코드: {row[0]}-{row[1]}\")  # city_code1, city_code2\n",
    "    if len(row) > 3:\n",
    "        print(f\"거리: {row[3]:.4f}\")  # distance\n",
    "    print(\"---\")"
   ]
  },
  {
   "cell_type": "code",
   "execution_count": null,
   "id": "30ae813d",
   "metadata": {},
   "outputs": [],
   "source": []
  }
 ],
 "metadata": {
  "kernelspec": {
   "display_name": "Python 3",
   "language": "python",
   "name": "python3"
  },
  "language_info": {
   "codemirror_mode": {
    "name": "ipython",
    "version": 3
   },
   "file_extension": ".py",
   "mimetype": "text/x-python",
   "name": "python",
   "nbconvert_exporter": "python",
   "pygments_lexer": "ipython3",
   "version": "3.12.3"
  }
 },
 "nbformat": 4,
 "nbformat_minor": 5
}
