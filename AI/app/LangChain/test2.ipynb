{
 "cells": [
  {
   "cell_type": "code",
   "execution_count": 1,
   "id": "90b1d3a7",
   "metadata": {},
   "outputs": [],
   "source": [
    "from datetime import datetime, timedelta\n",
    "from sqlalchemy import create_engine, text, Table, MetaData\n",
    "from urllib.parse import quote_plus\n",
    "from dotenv import load_dotenv\n",
    "from sqlalchemy.orm import sessionmaker\n",
    "import os\n",
    "\n",
    "class DBConnector:\n",
    "    def __init__(self, db_type=\"postgresql\"):\n",
    "        load_dotenv()\n",
    "\n",
    "        if db_type.lower() == \"postgresql\":\n",
    "            self.__DB_INFO = {\n",
    "                \"host\" : \"127.0.0.1\",\n",
    "                \"port\" : 5432,\n",
    "                \"db\" : \"postgres\",\n",
    "                \"user\" : \"postgres\",\n",
    "                \"passwd\" : quote_plus(os.getenv(\"POSTGRES_SQL_DB_PASSWORD\"))\n",
    "            }\n",
    "\n",
    "            self.__engine = create_engine(\n",
    "                f\"postgresql+psycopg2://{self.__DB_INFO['user']}:{self.__DB_INFO['passwd']}@{self.__DB_INFO['host']}:{self.__DB_INFO['port']}/{self.__DB_INFO['db']}\"\n",
    "            )\n",
    "\n",
    "        elif db_type.lower() == \"mysql\":\n",
    "            self.__DB_INFO = {\n",
    "                \"host\" : \"127.0.0.1\",\n",
    "                \"port\" : 3306,\n",
    "                \"db\" : \"teamDB\",\n",
    "                \"user\" : \"root\",\n",
    "                \"passwd\" : quote_plus(os.getenv(\"MYSQL_DB_PASSWORD\"))\n",
    "            }\n",
    "\n",
    "            self.__engine = create_engine(\n",
    "                f\"mysql+pymysql://{self.__DB_INFO['user']}:{self.__DB_INFO['passwd']}@{self.__DB_INFO['host']}:{self.__DB_INFO['port']}/{self.__DB_INFO['db']}\"\n",
    "            )\n",
    "\n",
    "    def session_connecter(self):\n",
    "        Session = sessionmaker(bind=self.__engine, autoflush=False, autocommit=False)\n",
    "        return Session\n"
   ]
  },
  {
   "cell_type": "code",
   "execution_count": 2,
   "id": "bc7ad29c",
   "metadata": {},
   "outputs": [
    {
     "name": "stdout",
     "output_type": "stream",
     "text": [
      "26 380 부산광역시 사하구 1.1451\n",
      "26 500 부산광역시 수영구 1.1453\n",
      "26 440 부산광역시 강서구 1.1467\n"
     ]
    }
   ],
   "source": [
    "from sqlalchemy import create_engine, select\n",
    "from sqlalchemy.orm import Session\n",
    "from pgvector.sqlalchemy import Vector\n",
    "from sqlalchemy import Column, String\n",
    "from sqlalchemy.orm import declarative_base\n",
    "Base = declarative_base()\n",
    "\n",
    "# ORM 매핑\n",
    "class CityRegion(Base):\n",
    "    __tablename__ = \"city_regions\"\n",
    "\n",
    "    city_code1 = Column(String, primary_key=True)\n",
    "    city_code2 = Column(String, primary_key=True)\n",
    "    city_str = Column(String)\n",
    "    embedding = Column(Vector(1536))\n",
    "  # pgvector 컬럼\n",
    "\n",
    "\n",
    "# ---- DB 연결 ----\n",
    "engine = DBConnector(\"postgresql\")._DBConnector__engine\n",
    "\n",
    "\n",
    "# ---- 검색 함수 ----\n",
    "def get_similar_city_region(q_embedding, top_k=3):\n",
    "    if hasattr(q_embedding, \"tolist\"):\n",
    "        q_embedding = q_embedding.tolist()\n",
    "\n",
    "    with Session(engine) as session:\n",
    "        distance_expr = CityRegion.embedding.l2_distance(q_embedding)  # 또는 .cosine_distance()\n",
    "\n",
    "        stmt = (\n",
    "            select(\n",
    "                CityRegion.city_code1,\n",
    "                CityRegion.city_code2,\n",
    "                CityRegion.city_str,\n",
    "                distance_expr.label(\"distance\")\n",
    "            )\n",
    "            .order_by(distance_expr)\n",
    "            .limit(top_k)\n",
    "        )\n",
    "\n",
    "        result = session.execute(stmt).all()\n",
    "        return result\n",
    "\n",
    "# ---- 실행 예시 ----\n",
    "q_emb = [0.0, 0.2, 0.6] + [0.0] * (1536 - 3)  # DB와 차원 맞춤\n",
    "\n",
    "rows = get_similar_city_region(q_emb, top_k=3)\n",
    "\n",
    "for row in rows:\n",
    "    print(row.city_code1, row.city_code2, row.city_str, f\"{row.distance:.4f}\")"
   ]
  },
  {
   "cell_type": "code",
   "execution_count": 4,
   "id": "50c4cedf",
   "metadata": {},
   "outputs": [
    {
     "name": "stdout",
     "output_type": "stream",
     "text": [
      "11 110 서울특별시 종로구 0.8697\n",
      "11 000 서울특별시  0.9034\n",
      "11 140 서울특별시 중구 0.9391\n"
     ]
    }
   ],
   "source": [
    "from openai import OpenAI\n",
    "import os\n",
    "\n",
    "client = OpenAI(api_key=os.getenv(\"OPENAI_API_KEY\"))\n",
    "\n",
    "query = \"서울종로\"\n",
    "\n",
    "# OpenAI로 벡터 생성\n",
    "q_emb = client.embeddings.create(\n",
    "    model=\"text-embedding-3-small\",\n",
    "    input=query\n",
    ").data[0].embedding \n",
    "rows = get_similar_city_region(q_emb, top_k=3)\n",
    "\n",
    "for row in rows:\n",
    "    print(row.city_code1, row.city_code2, row.city_str, f\"{row.distance:.4f}\")\n"
   ]
  },
  {
   "cell_type": "code",
   "execution_count": null,
   "id": "287cb925",
   "metadata": {},
   "outputs": [],
   "source": []
  }
 ],
 "metadata": {
  "kernelspec": {
   "display_name": "Python 3",
   "language": "python",
   "name": "python3"
  },
  "language_info": {
   "codemirror_mode": {
    "name": "ipython",
    "version": 3
   },
   "file_extension": ".py",
   "mimetype": "text/x-python",
   "name": "python",
   "nbconvert_exporter": "python",
   "pygments_lexer": "ipython3",
   "version": "3.12.3"
  }
 },
 "nbformat": 4,
 "nbformat_minor": 5
}
